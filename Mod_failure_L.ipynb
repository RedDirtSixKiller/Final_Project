{
 "cells": [
  {
   "cell_type": "code",
   "execution_count": 1,
   "metadata": {},
   "outputs": [],
   "source": [
    "import lifelines\n",
    "import pandas as pd\n"
   ]
  },
  {
   "cell_type": "code",
   "execution_count": 2,
   "metadata": {},
   "outputs": [
    {
     "data": {
      "text/html": [
       "<div>\n",
       "<style scoped>\n",
       "    .dataframe tbody tr th:only-of-type {\n",
       "        vertical-align: middle;\n",
       "    }\n",
       "\n",
       "    .dataframe tbody tr th {\n",
       "        vertical-align: top;\n",
       "    }\n",
       "\n",
       "    .dataframe thead th {\n",
       "        text-align: right;\n",
       "    }\n",
       "</style>\n",
       "<table border=\"1\" class=\"dataframe\">\n",
       "  <thead>\n",
       "    <tr style=\"text-align: right;\">\n",
       "      <th></th>\n",
       "      <th>T</th>\n",
       "      <th>E</th>\n",
       "      <th>ExtRange</th>\n",
       "      <th>ser3k</th>\n",
       "      <th>CC</th>\n",
       "      <th>Daz</th>\n",
       "      <th>Dia</th>\n",
       "      <th>EB</th>\n",
       "      <th>Fre</th>\n",
       "      <th>Ker</th>\n",
       "      <th>...</th>\n",
       "      <th>NB</th>\n",
       "      <th>NC</th>\n",
       "      <th>NV</th>\n",
       "      <th>Pen</th>\n",
       "      <th>Sac</th>\n",
       "      <th>SF</th>\n",
       "      <th>SJ</th>\n",
       "      <th>Sie</th>\n",
       "      <th>Stk</th>\n",
       "      <th>Yos</th>\n",
       "    </tr>\n",
       "  </thead>\n",
       "  <tbody>\n",
       "    <tr>\n",
       "      <th>0</th>\n",
       "      <td>110</td>\n",
       "      <td>0</td>\n",
       "      <td>0</td>\n",
       "      <td>0</td>\n",
       "      <td>1</td>\n",
       "      <td>0</td>\n",
       "      <td>0</td>\n",
       "      <td>0</td>\n",
       "      <td>0</td>\n",
       "      <td>0</td>\n",
       "      <td>...</td>\n",
       "      <td>0</td>\n",
       "      <td>0</td>\n",
       "      <td>0</td>\n",
       "      <td>0</td>\n",
       "      <td>0</td>\n",
       "      <td>0</td>\n",
       "      <td>0</td>\n",
       "      <td>0</td>\n",
       "      <td>0</td>\n",
       "      <td>0</td>\n",
       "    </tr>\n",
       "    <tr>\n",
       "      <th>1</th>\n",
       "      <td>115</td>\n",
       "      <td>0</td>\n",
       "      <td>0</td>\n",
       "      <td>0</td>\n",
       "      <td>0</td>\n",
       "      <td>0</td>\n",
       "      <td>0</td>\n",
       "      <td>1</td>\n",
       "      <td>0</td>\n",
       "      <td>0</td>\n",
       "      <td>...</td>\n",
       "      <td>0</td>\n",
       "      <td>0</td>\n",
       "      <td>0</td>\n",
       "      <td>0</td>\n",
       "      <td>0</td>\n",
       "      <td>0</td>\n",
       "      <td>0</td>\n",
       "      <td>0</td>\n",
       "      <td>0</td>\n",
       "      <td>0</td>\n",
       "    </tr>\n",
       "    <tr>\n",
       "      <th>2</th>\n",
       "      <td>70</td>\n",
       "      <td>0</td>\n",
       "      <td>1</td>\n",
       "      <td>0</td>\n",
       "      <td>0</td>\n",
       "      <td>0</td>\n",
       "      <td>0</td>\n",
       "      <td>0</td>\n",
       "      <td>0</td>\n",
       "      <td>0</td>\n",
       "      <td>...</td>\n",
       "      <td>0</td>\n",
       "      <td>0</td>\n",
       "      <td>0</td>\n",
       "      <td>0</td>\n",
       "      <td>0</td>\n",
       "      <td>0</td>\n",
       "      <td>0</td>\n",
       "      <td>0</td>\n",
       "      <td>0</td>\n",
       "      <td>0</td>\n",
       "    </tr>\n",
       "    <tr>\n",
       "      <th>3</th>\n",
       "      <td>19</td>\n",
       "      <td>0</td>\n",
       "      <td>0</td>\n",
       "      <td>1</td>\n",
       "      <td>0</td>\n",
       "      <td>0</td>\n",
       "      <td>0</td>\n",
       "      <td>0</td>\n",
       "      <td>0</td>\n",
       "      <td>0</td>\n",
       "      <td>...</td>\n",
       "      <td>0</td>\n",
       "      <td>0</td>\n",
       "      <td>0</td>\n",
       "      <td>0</td>\n",
       "      <td>1</td>\n",
       "      <td>0</td>\n",
       "      <td>0</td>\n",
       "      <td>0</td>\n",
       "      <td>0</td>\n",
       "      <td>0</td>\n",
       "    </tr>\n",
       "    <tr>\n",
       "      <th>4</th>\n",
       "      <td>110</td>\n",
       "      <td>0</td>\n",
       "      <td>0</td>\n",
       "      <td>0</td>\n",
       "      <td>1</td>\n",
       "      <td>0</td>\n",
       "      <td>0</td>\n",
       "      <td>0</td>\n",
       "      <td>0</td>\n",
       "      <td>0</td>\n",
       "      <td>...</td>\n",
       "      <td>0</td>\n",
       "      <td>0</td>\n",
       "      <td>0</td>\n",
       "      <td>0</td>\n",
       "      <td>0</td>\n",
       "      <td>0</td>\n",
       "      <td>0</td>\n",
       "      <td>0</td>\n",
       "      <td>0</td>\n",
       "      <td>0</td>\n",
       "    </tr>\n",
       "  </tbody>\n",
       "</table>\n",
       "<p>5 rows × 21 columns</p>\n",
       "</div>"
      ],
      "text/plain": [
       "     T  E  ExtRange  ser3k  CC  Daz  Dia  EB  Fre  Ker  ...  NB  NC  NV  Pen  \\\n",
       "0  110  0         0      0   1    0    0   0    0    0  ...   0   0   0    0   \n",
       "1  115  0         0      0   0    0    0   1    0    0  ...   0   0   0    0   \n",
       "2   70  0         1      0   0    0    0   0    0    0  ...   0   0   0    0   \n",
       "3   19  0         0      1   0    0    0   0    0    0  ...   0   0   0    0   \n",
       "4  110  0         0      0   1    0    0   0    0    0  ...   0   0   0    0   \n",
       "\n",
       "   Sac  SF  SJ  Sie  Stk  Yos  \n",
       "0    0   0   0    0    0    0  \n",
       "1    0   0   0    0    0    0  \n",
       "2    0   0   0    0    0    0  \n",
       "3    1   0   0    0    0    0  \n",
       "4    0   0   0    0    0    0  \n",
       "\n",
       "[5 rows x 21 columns]"
      ]
     },
     "execution_count": 2,
     "metadata": {},
     "output_type": "execute_result"
    }
   ],
   "source": [
    "#import the csv, probabaly need to use os for working directory\n",
    "raw_df = pd.read_csv('mod_failure2.csv')\n",
    "raw_df.head()"
   ]
  },
  {
   "cell_type": "code",
   "execution_count": 3,
   "metadata": {},
   "outputs": [],
   "source": [
    "T = raw_df['T']\n",
    "E= raw_df['E']"
   ]
  },
  {
   "cell_type": "code",
   "execution_count": 4,
   "metadata": {},
   "outputs": [
    {
     "data": {
      "text/plain": [
       "<matplotlib.axes._subplots.AxesSubplot at 0x2b245f490f0>"
      ]
     },
     "execution_count": 4,
     "metadata": {},
     "output_type": "execute_result"
    },
    {
     "data": {
      "image/png": "[encoded data removed]",
      "text/plain": [
       "<Figure size 432x288 with 1 Axes>"
      ]
     },
     "metadata": {
      "needs_background": "light"
     },
     "output_type": "display_data"
    }
   ],
   "source": [
    "kmf = lifelines.KaplanMeierFitter()\n",
    "kmf.fit(T, event_observed=E)\n",
    "kmf.plot()"
   ]
  },
  {
   "cell_type": "code",
   "execution_count": null,
   "metadata": {},
   "outputs": [],
   "source": []
  },
  {
   "cell_type": "code",
   "execution_count": 6,
   "metadata": {},
   "outputs": [
    {
     "name": "stdout",
     "output_type": "stream",
     "text": [
      "<lifelines.CoxPHFitter: fitted with 50000 total observations, 47905 right-censored observations>\n",
      "             duration col = 'T'\n",
      "                event col = 'E'\n",
      "   number of observations = 50000\n",
      "number of events observed = 2095\n",
      "   partial log-likelihood = -21046.28\n",
      "         time fit was run = 2019-11-21 02:54:00 UTC\n",
      "\n",
      "---\n",
      "           coef  exp(coef)   se(coef)   coef lower 95%   coef upper 95%  exp(coef) lower 95%  exp(coef) upper 95%\n",
      "ExtRange   1.67       5.32       0.09             1.49             1.85                 4.44                 6.36\n",
      "ser3k      0.05       1.05       0.19            -0.32             0.41                 0.73                 1.51\n",
      "CC         0.77       2.15       0.16             0.45             1.08                 1.57                 2.95\n",
      "Daz        0.07       1.08       0.27            -0.46             0.61                 0.63                 1.84\n",
      "Dia        0.15       1.16       0.17            -0.19             0.48                 0.83                 1.62\n",
      "EB        -0.00       1.00       0.18            -0.35             0.34                 0.70                 1.41\n",
      "Fre        0.89       2.43       0.16             0.58             1.20                 1.79                 3.30\n",
      "Ker        1.36       3.91       0.15             1.06             1.67                 2.89                 5.29\n",
      "Mis       -0.18       0.84       0.17            -0.52             0.16                 0.60                 1.17\n",
      "NB         0.39       1.48       0.18             0.04             0.74                 1.04                 2.10\n",
      "NC         0.77       2.17       0.17             0.44             1.10                 1.56                 3.02\n",
      "NV         1.28       3.60       0.17             0.95             1.61                 2.60                 4.98\n",
      "Pen        0.16       1.17       0.17            -0.18             0.50                 0.83                 1.65\n",
      "Sac        0.57       1.77       0.15             0.29             0.86                 1.33                 2.35\n",
      "SJ         0.58       1.78       0.19             0.21             0.94                 1.24                 2.56\n",
      "Sie        0.65       1.91       0.16             0.32             0.97                 1.38                 2.64\n",
      "Stk        0.72       2.05       0.20             0.34             1.10                 1.40                 3.02\n",
      "Yos        0.89       2.43       0.17             0.55             1.22                 1.74                 3.39\n",
      "\n",
      "             z      p   -log2(p)\n",
      "ExtRange 18.22 <0.005     243.94\n",
      "ser3k     0.25   0.80       0.31\n",
      "CC        4.75 <0.005      18.90\n",
      "Daz       0.27   0.79       0.34\n",
      "Dia       0.86   0.39       1.37\n",
      "EB       -0.03   0.98       0.03\n",
      "Fre       5.70 <0.005      26.31\n",
      "Ker       8.85 <0.005      60.05\n",
      "Mis      -1.04   0.30       1.74\n",
      "NB        2.18   0.03       5.09\n",
      "NC        4.60 <0.005      17.88\n",
      "NV        7.70 <0.005      46.11\n",
      "Pen       0.90   0.37       1.45\n",
      "Sac       3.94 <0.005      13.55\n",
      "SJ        3.10 <0.005       9.00\n",
      "Sie       3.93 <0.005      13.53\n",
      "Stk       3.68 <0.005      12.05\n",
      "Yos       5.21 <0.005      22.31\n",
      "---\n",
      "Concordance = 0.64\n",
      "Log-likelihood ratio test = 643.81 on 18 df, -log2(p)=413.03\n"
     ]
    }
   ],
   "source": [
    "c_df = raw_df.drop('SF', axis=1)\n",
    "cph = lifelines.CoxPHFitter()\n",
    "cph.fit(c_df,'T',event_col='E')\n",
    "cph.print_summary()"
   ]
  },
  {
   "cell_type": "code",
   "execution_count": 7,
   "metadata": {},
   "outputs": [
    {
     "data": {
      "text/plain": [
       "<matplotlib.axes._subplots.AxesSubplot at 0x2b2466cc400>"
      ]
     },
     "execution_count": 7,
     "metadata": {},
     "output_type": "execute_result"
    },
    {
     "data": {
      "image/png": "[encoded data removed]",
      "text/plain": [
       "<Figure size 432x288 with 1 Axes>"
      ]
     },
     "metadata": {
      "needs_background": "light"
     },
     "output_type": "display_data"
    }
   ],
   "source": [
    "cph.plot()"
   ]
  },
  {
   "cell_type": "code",
   "execution_count": null,
   "metadata": {},
   "outputs": [],
   "source": []
  }
 ],
 "metadata": {
  "kernelspec": {
   "display_name": "Python 3",
   "language": "python",
   "name": "python3"
  },
  "language_info": {
   "codemirror_mode": {
    "name": "ipython",
    "version": 3
   },
   "file_extension": ".py",
   "mimetype": "text/x-python",
   "name": "python",
   "nbconvert_exporter": "python",
   "pygments_lexer": "ipython3",
   "version": "3.6.9"
  }
 },
 "nbformat": 4,
 "nbformat_minor": 2
}
